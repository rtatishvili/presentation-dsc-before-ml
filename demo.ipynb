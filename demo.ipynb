{
 "cells": [
  {
   "cell_type": "markdown",
   "metadata": {},
   "source": [
    "# მონაცემთა მეცნიერება\n",
    "##### მანქანური სწავლების გამოყენებამდე"
   ]
  },
  {
   "cell_type": "markdown",
   "metadata": {},
   "source": [
    "### დუბლინის ხმაურის მონაცემები უბნების მიხედვით\n",
    "\n",
    "საჯარო ინფორმაცია, გამოქვეყნებულია: https://data.smartdublin.ie/dataset/ambient-sound-monitoring-network\n"
   ]
  },
  {
   "cell_type": "markdown",
   "metadata": {},
   "source": [
    "ცნობარი ხმაურის ერთეულების შესახებ: http://www.acoustic-glossary.co.uk/leq.htm"
   ]
  },
  {
   "cell_type": "markdown",
   "metadata": {},
   "source": [
    "### რამდენიმე ბიბლიოთეკის ჩატვირთვა"
   ]
  },
  {
   "cell_type": "code",
   "execution_count": null,
   "metadata": {
    "collapsed": true
   },
   "outputs": [],
   "source": [
    "from __future__ import unicode_literals"
   ]
  },
  {
   "cell_type": "code",
   "execution_count": null,
   "metadata": {
    "collapsed": true
   },
   "outputs": [],
   "source": [
    "import pandas as pd\n",
    "import numpy as np\n",
    "import matplotlib\n",
    "import matplotlib.pyplot as plt\n",
    "matplotlib.style.use('ggplot')"
   ]
  },
  {
   "cell_type": "code",
   "execution_count": null,
   "metadata": {
    "collapsed": true
   },
   "outputs": [],
   "source": [
    "import glob"
   ]
  },
  {
   "cell_type": "code",
   "execution_count": null,
   "metadata": {
    "collapsed": true
   },
   "outputs": [],
   "source": [
    "%matplotlib notebook"
   ]
  },
  {
   "cell_type": "code",
   "execution_count": null,
   "metadata": {
    "collapsed": true
   },
   "outputs": [],
   "source": []
  },
  {
   "cell_type": "markdown",
   "metadata": {},
   "source": [
    "ფაილებისა და ფოლდერების განლაგება"
   ]
  },
  {
   "cell_type": "code",
   "execution_count": null,
   "metadata": {},
   "outputs": [],
   "source": [
    "%%bash\n",
    "ls /home/revaz/data/public/dublin/raw/ballyfermot/2015/ | head"
   ]
  },
  {
   "cell_type": "code",
   "execution_count": null,
   "metadata": {},
   "outputs": [],
   "source": [
    "%%bash\n",
    "ls /home/revaz/data/public/dublin/raw/ballyfermot/2015/April\\ 15/ | head"
   ]
  },
  {
   "cell_type": "markdown",
   "metadata": {},
   "source": [
    "ფაილის ფორმატი: კომენტარი, გამყოფები, ინდექსი"
   ]
  },
  {
   "cell_type": "code",
   "execution_count": null,
   "metadata": {
    "scrolled": false
   },
   "outputs": [],
   "source": [
    "%%bash\n",
    "head -n 15 '/home/revaz/data/public/dublin/raw/ballyfermot/2015/April 15/DCC-NOISE-001003-2015-04-08T00-00-00.txt'"
   ]
  },
  {
   "cell_type": "markdown",
   "metadata": {},
   "source": [
    "ფაილის მისამართების სორტირებული სია"
   ]
  },
  {
   "cell_type": "code",
   "execution_count": null,
   "metadata": {
    "collapsed": true
   },
   "outputs": [],
   "source": [
    "# single district, one year time period\n",
    "files = sorted(glob.glob('/home/revaz/data/public/dublin/raw/ballyfermot/2015/*/*.txt'))"
   ]
  },
  {
   "cell_type": "code",
   "execution_count": null,
   "metadata": {
    "collapsed": true
   },
   "outputs": [],
   "source": [
    "def get_header(file):\n",
    "    \"\"\"Get first 9 rows of each file as a list.\"\"\"\n",
    "    with open(files[0], 'r') as f:\n",
    "        header = [f.readline() for _ in range(9)]\n",
    "    \n",
    "    return header"
   ]
  },
  {
   "cell_type": "markdown",
   "metadata": {},
   "source": [
    "თანადობა თითოეული ფაილისა და მისი საწყისი კომენტარებისა"
   ]
  },
  {
   "cell_type": "code",
   "execution_count": null,
   "metadata": {
    "collapsed": true
   },
   "outputs": [],
   "source": [
    "headers = {file: get_header(file) for file in files} # dict comprehension"
   ]
  },
  {
   "cell_type": "code",
   "execution_count": null,
   "metadata": {
    "collapsed": true
   },
   "outputs": [],
   "source": [
    "# headers"
   ]
  },
  {
   "cell_type": "markdown",
   "metadata": {},
   "source": [
    "აქ ვამოწმებთ ემთხვევა თუ არა კომენტარის შესაბამისი სტრიქონი ყველა ფაილში"
   ]
  },
  {
   "cell_type": "code",
   "execution_count": null,
   "metadata": {},
   "outputs": [],
   "source": [
    "for i in range(9):\n",
    "    unique_header_items = {v[i] for k, v in headers.items()} # set comprehension\n",
    "    print(len(unique_header_items) == 1)\n",
    "    # assert len(len(unique_header_items) == 1)\n"
   ]
  },
  {
   "cell_type": "code",
   "execution_count": null,
   "metadata": {},
   "outputs": [],
   "source": [
    "len(files)"
   ]
  },
  {
   "cell_type": "markdown",
   "metadata": {},
   "source": [
    "### ნედლი მონაცემების ჩატვირთვა"
   ]
  },
  {
   "cell_type": "code",
   "execution_count": null,
   "metadata": {
    "collapsed": true
   },
   "outputs": [],
   "source": [
    "all_dfs = [pd.read_csv(file, sep=',', index_col=0, parse_dates=True, dayfirst=True, skiprows=8)\n",
    "           for file in files]"
   ]
  },
  {
   "cell_type": "markdown",
   "metadata": {},
   "source": [
    "ერთი ფაილის ჩატვირთული ნიმუში"
   ]
  },
  {
   "cell_type": "code",
   "execution_count": null,
   "metadata": {},
   "outputs": [],
   "source": [
    "all_dfs[130].head()"
   ]
  },
  {
   "cell_type": "markdown",
   "metadata": {},
   "source": [
    "ფაილების გაერთიანება (კონკატენაცია)"
   ]
  },
  {
   "cell_type": "code",
   "execution_count": null,
   "metadata": {
    "collapsed": true
   },
   "outputs": [],
   "source": [
    "full_df = pd.concat(all_dfs)"
   ]
  },
  {
   "cell_type": "code",
   "execution_count": null,
   "metadata": {},
   "outputs": [],
   "source": [
    "full_df.head()"
   ]
  },
  {
   "cell_type": "markdown",
   "metadata": {},
   "source": [
    "საჭიროა ინდექსის სორტირება"
   ]
  },
  {
   "cell_type": "code",
   "execution_count": null,
   "metadata": {
    "collapsed": true
   },
   "outputs": [],
   "source": [
    "full_df.sort_index(inplace=True)"
   ]
  },
  {
   "cell_type": "markdown",
   "metadata": {},
   "source": [
    "ინდექსისა და სვეტების სახელების გადარქმევა"
   ]
  },
  {
   "cell_type": "code",
   "execution_count": null,
   "metadata": {},
   "outputs": [],
   "source": [
    "full_df.columns"
   ]
  },
  {
   "cell_type": "code",
   "execution_count": null,
   "metadata": {
    "collapsed": true
   },
   "outputs": [],
   "source": [
    "full_df.index.name = 'timestamp'"
   ]
  },
  {
   "cell_type": "code",
   "execution_count": null,
   "metadata": {
    "collapsed": true
   },
   "outputs": [],
   "source": [
    "full_df.rename(columns=lambda name: name.strip(), inplace=True)"
   ]
  },
  {
   "cell_type": "markdown",
   "metadata": {},
   "source": [
    "### რაოდენობრივი ანალიზი"
   ]
  },
  {
   "cell_type": "markdown",
   "metadata": {},
   "source": [
    "გამოტოვებული დროითი ინტერვალები"
   ]
  },
  {
   "cell_type": "code",
   "execution_count": null,
   "metadata": {
    "collapsed": true
   },
   "outputs": [],
   "source": [
    "time_index = full_df.index.to_series()"
   ]
  },
  {
   "cell_type": "code",
   "execution_count": null,
   "metadata": {
    "collapsed": true
   },
   "outputs": [],
   "source": [
    "time_diff = time_index - time_index.shift(1)"
   ]
  },
  {
   "cell_type": "code",
   "execution_count": null,
   "metadata": {},
   "outputs": [],
   "source": [
    "sorted(list(set(time_diff.dropna())))"
   ]
  },
  {
   "cell_type": "code",
   "execution_count": null,
   "metadata": {},
   "outputs": [],
   "source": [
    "time_diff.value_counts(dropna=False).sort_index()"
   ]
  },
  {
   "cell_type": "code",
   "execution_count": null,
   "metadata": {},
   "outputs": [],
   "source": [
    "time_diff[time_diff > pd.Timedelta(minutes=10)]"
   ]
  },
  {
   "cell_type": "code",
   "execution_count": null,
   "metadata": {
    "collapsed": true
   },
   "outputs": [],
   "source": []
  },
  {
   "cell_type": "markdown",
   "metadata": {},
   "source": [
    "### რაოდენობა, საზღვრები, მარტივი სტატისტიკა"
   ]
  },
  {
   "cell_type": "code",
   "execution_count": null,
   "metadata": {},
   "outputs": [],
   "source": [
    "full_df.describe()"
   ]
  },
  {
   "cell_type": "markdown",
   "metadata": {},
   "source": [
    "დამატებით 1-ლი და 99-ე მეასედების შემოწმება"
   ]
  },
  {
   "cell_type": "code",
   "execution_count": null,
   "metadata": {},
   "outputs": [],
   "source": [
    "full_df.describe([0.01, 0.25, 0.5, 0.75, 0.99])"
   ]
  },
  {
   "cell_type": "markdown",
   "metadata": {},
   "source": [
    "საშუალოსა და მედიანას შორის აბსოლუტური სხვაობა"
   ]
  },
  {
   "cell_type": "code",
   "execution_count": null,
   "metadata": {},
   "outputs": [],
   "source": [
    "abs(full_df.describe().loc['mean'] - full_df.describe().loc['50%'])"
   ]
  },
  {
   "cell_type": "markdown",
   "metadata": {},
   "source": [
    "დისკრეტული დიფერენციალის სტატისტიკა"
   ]
  },
  {
   "cell_type": "code",
   "execution_count": null,
   "metadata": {
    "collapsed": true
   },
   "outputs": [],
   "source": [
    "diff_df = full_df.diff()"
   ]
  },
  {
   "cell_type": "code",
   "execution_count": null,
   "metadata": {},
   "outputs": [],
   "source": [
    "diff_df.describe([0.01, 0.25, 0.5, 0.75, 0.99])"
   ]
  },
  {
   "cell_type": "code",
   "execution_count": null,
   "metadata": {
    "collapsed": true
   },
   "outputs": [],
   "source": []
  },
  {
   "cell_type": "markdown",
   "metadata": {},
   "source": [
    "### ვიზუალიზაცია"
   ]
  },
  {
   "cell_type": "code",
   "execution_count": null,
   "metadata": {},
   "outputs": [],
   "source": [
    "f, ax = plt.subplots(figsize=(7, 4))\n",
    "\n",
    "full_df.plot(ax=ax)\n",
    "\n",
    "plt.tight_layout()\n",
    "plt.show()"
   ]
  },
  {
   "cell_type": "code",
   "execution_count": null,
   "metadata": {},
   "outputs": [],
   "source": [
    "f, ax = plt.subplots(figsize=(7, 4))\n",
    "\n",
    "full_df['2015-01-20':'2015-01-22'].plot(ax=ax)\n",
    "\n",
    "plt.tight_layout()\n",
    "plt.show()"
   ]
  },
  {
   "cell_type": "code",
   "execution_count": null,
   "metadata": {
    "collapsed": true
   },
   "outputs": [],
   "source": []
  },
  {
   "cell_type": "markdown",
   "metadata": {
    "collapsed": true
   },
   "source": [
    "დღიური მაქსიმუმები"
   ]
  },
  {
   "cell_type": "code",
   "execution_count": null,
   "metadata": {
    "collapsed": true
   },
   "outputs": [],
   "source": [
    "daily_max = full_df.groupby(pd.Grouper(freq='1D')).max()"
   ]
  },
  {
   "cell_type": "code",
   "execution_count": null,
   "metadata": {
    "collapsed": true
   },
   "outputs": [],
   "source": [
    "daily_max_for_heatmap = daily_max.copy()\n",
    "\n",
    "daily_max_for_heatmap.index = daily_max_for_heatmap.index.date"
   ]
  },
  {
   "cell_type": "code",
   "execution_count": null,
   "metadata": {},
   "outputs": [],
   "source": [
    "import seaborn as sns\n",
    "f, ax = plt.subplots(1, 1, figsize=(7, 3))\n",
    "sns.heatmap(daily_max_for_heatmap.T, ax=ax)\n",
    "\n",
    "for tick in ax.get_yticklabels():\n",
    "    tick.set_rotation(0)\n",
    "for tick in ax.get_xticklabels():\n",
    "    tick.set_rotation(90)\n",
    "plt.tight_layout()\n",
    "plt.show()"
   ]
  },
  {
   "cell_type": "code",
   "execution_count": null,
   "metadata": {
    "collapsed": true
   },
   "outputs": [],
   "source": []
  },
  {
   "cell_type": "markdown",
   "metadata": {},
   "source": [
    "#### ყოველთვიური საშუალო მაჩვენებლები"
   ]
  },
  {
   "cell_type": "code",
   "execution_count": null,
   "metadata": {
    "collapsed": true
   },
   "outputs": [],
   "source": [
    "monthly_means = full_df.groupby(pd.Grouper(freq='MS')).mean()"
   ]
  },
  {
   "cell_type": "code",
   "execution_count": null,
   "metadata": {
    "collapsed": true
   },
   "outputs": [],
   "source": [
    "monthly_means.index = monthly_means.index.date"
   ]
  },
  {
   "cell_type": "code",
   "execution_count": null,
   "metadata": {},
   "outputs": [],
   "source": [
    "f, ax = plt.subplots(1, 1, figsize=(9, 4))\n",
    "\n",
    "monthly_means.plot(ax=ax)\n",
    "ax.set_ylim(0, 70)\n",
    "plt.legend(loc=4)\n",
    "plt.tight_layout()\n",
    "plt.show()"
   ]
  },
  {
   "cell_type": "code",
   "execution_count": null,
   "metadata": {},
   "outputs": [],
   "source": [
    "f, ax = plt.subplots(1, 1, figsize=(9, 4))\n",
    "\n",
    "monthly_means.plot.bar(ax=ax)\n",
    "plt.legend(loc=4)\n",
    "plt.tight_layout()\n",
    "plt.show()"
   ]
  },
  {
   "cell_type": "code",
   "execution_count": null,
   "metadata": {
    "collapsed": true
   },
   "outputs": [],
   "source": []
  },
  {
   "cell_type": "markdown",
   "metadata": {},
   "source": [
    "#### სიმჭიდროვის ვიზუალიზაცია"
   ]
  },
  {
   "cell_type": "markdown",
   "metadata": {},
   "source": [
    "მონაცემების დღეებად დაყოფა და ზედდება"
   ]
  },
  {
   "cell_type": "code",
   "execution_count": null,
   "metadata": {
    "collapsed": true
   },
   "outputs": [],
   "source": [
    "daily_ALEQ = [group for group in full_df['A Leq'].groupby(pd.Grouper(freq='1D'))]\n",
    "# full_df.columns"
   ]
  },
  {
   "cell_type": "code",
   "execution_count": null,
   "metadata": {
    "collapsed": true
   },
   "outputs": [],
   "source": [
    "for date, series in daily_ALEQ:\n",
    "    series.name = date.date()\n",
    "    series.index = series.index.time"
   ]
  },
  {
   "cell_type": "code",
   "execution_count": null,
   "metadata": {
    "collapsed": true
   },
   "outputs": [],
   "source": []
  },
  {
   "cell_type": "code",
   "execution_count": null,
   "metadata": {},
   "outputs": [],
   "source": [
    "f, ax = plt.subplots(2, 1, figsize=(7, 6))\n",
    "\n",
    "for date, series in daily_ALEQ[:30]:\n",
    "    if series.empty:\n",
    "        continue\n",
    "    series.plot(ax=ax[0], marker='o', lw=0, c='g')    \n",
    "    series.plot(ax=ax[1], marker='o', lw=0, c='g', alpha=0.1)    \n",
    "    \n",
    "#     ax.legend()\n",
    "\n",
    "plt.tight_layout()\n",
    "plt.show()"
   ]
  },
  {
   "cell_type": "code",
   "execution_count": null,
   "metadata": {},
   "outputs": [],
   "source": [
    "f, ax = plt.subplots(2, 1, figsize=(7, 6))\n",
    "\n",
    "for date, series in daily_ALEQ:\n",
    "    if series.empty:\n",
    "        continue\n",
    "        \n",
    "    if date.dayofweek == 2:\n",
    "        series.plot(ax=ax[0], marker='o', alpha=0.1, lw=0, c='r')    \n",
    "    if date.dayofweek == 6:\n",
    "        series.plot(ax=ax[1], marker='o', alpha=0.1, lw=0, c='b')    \n",
    "#     ax.legend()\n",
    "\n",
    "plt.tight_layout()\n",
    "plt.show()"
   ]
  },
  {
   "cell_type": "code",
   "execution_count": null,
   "metadata": {},
   "outputs": [],
   "source": [
    "f, ax = plt.subplots(1, 1, figsize=(7, 4))\n",
    "\n",
    "for date, series in daily_ALEQ:\n",
    "    if series.empty:\n",
    "        continue\n",
    "        \n",
    "    if date.dayofweek == 2:\n",
    "        series.plot(ax=ax, marker='o', alpha=0.1, lw=0, c='r')    \n",
    "    if date.dayofweek == 6:\n",
    "        series.plot(ax=ax, marker='o', alpha=0.1, lw=0, c='b')    \n",
    "#     ax.legend()\n",
    "\n",
    "plt.tight_layout()\n",
    "plt.show()"
   ]
  },
  {
   "cell_type": "markdown",
   "metadata": {},
   "source": [
    "#### საათობრივი განაწილება"
   ]
  },
  {
   "cell_type": "code",
   "execution_count": null,
   "metadata": {
    "collapsed": true
   },
   "outputs": [],
   "source": [
    "hourly_ALEQ = [group for group in full_df['A Leq'].groupby(pd.Grouper(freq='1H'))]"
   ]
  },
  {
   "cell_type": "code",
   "execution_count": null,
   "metadata": {
    "collapsed": true
   },
   "outputs": [],
   "source": [
    "group, series = hourly_ALEQ[0]"
   ]
  },
  {
   "cell_type": "code",
   "execution_count": null,
   "metadata": {
    "collapsed": true
   },
   "outputs": [],
   "source": [
    "hourly_ticks = pd.date_range(start='00:00:00', end='23:59:59', freq='1H').time"
   ]
  },
  {
   "cell_type": "code",
   "execution_count": null,
   "metadata": {
    "collapsed": true
   },
   "outputs": [],
   "source": [
    "def cut_hour(hourly_grouped, time):\n",
    "    return pd.concat(\n",
    "        [series\n",
    "         for group, series in hourly_grouped \n",
    "         if group.time() == time]\n",
    "    )\n",
    "\n",
    "hourly_series_dict = {str(time): cut_hour(hourly_ALEQ, time) for time in hourly_ticks}\n"
   ]
  },
  {
   "cell_type": "markdown",
   "metadata": {
    "collapsed": true
   },
   "source": [
    "ამონარიდი ბოქს-გრაფიკის დოკუმენტაციიდან:\n",
    "\n",
    "whis : float, sequence, or string (default = 1.5)\n",
    "\n",
    "    As a float, determines the reach of the whiskers to the beyond the first and third quartiles. In other words, where IQR is the interquartile range (Q3-Q1), the upper whisker will extend to last datum less than Q3 + whis*IQR). Similarly, the lower whisker will extend to the first datum greater than Q1 - whis*IQR. Beyond the whiskers, data are considered outliers and are plotted as individual points. Set this to an unreasonably high value to force the whiskers to show the min and max values. Alternatively, set this to an ascending sequence of percentile (e.g., [5, 95]) to set the whiskers at specific percentiles of the data. Finally, whis can be the string 'range' to force the whiskers to the min and max of the data.\n"
   ]
  },
  {
   "cell_type": "code",
   "execution_count": null,
   "metadata": {
    "collapsed": true
   },
   "outputs": [],
   "source": [
    "# hourly_series_dict['00:00:00'].reset_index(drop=True)"
   ]
  },
  {
   "cell_type": "code",
   "execution_count": null,
   "metadata": {
    "collapsed": true
   },
   "outputs": [],
   "source": [
    "noindex_hourly_dict = {time: series.reset_index(drop=True) for time, series in hourly_series_dict.items()}"
   ]
  },
  {
   "cell_type": "code",
   "execution_count": null,
   "metadata": {
    "collapsed": true
   },
   "outputs": [],
   "source": [
    "noindex_hourly_df = pd.DataFrame(noindex_hourly_dict)"
   ]
  },
  {
   "cell_type": "code",
   "execution_count": null,
   "metadata": {},
   "outputs": [],
   "source": [
    "f, ax = plt.subplots(figsize=(6, 4))\n",
    "\n",
    "noindex_hourly_df.plot.box(ax=ax)\n",
    "for tick in ax.get_xticklabels():\n",
    "    tick.set_rotation(90)\n",
    "    \n",
    "plt.tight_layout()\n",
    "plt.show()"
   ]
  },
  {
   "cell_type": "code",
   "execution_count": null,
   "metadata": {
    "collapsed": true
   },
   "outputs": [],
   "source": []
  },
  {
   "cell_type": "markdown",
   "metadata": {},
   "source": [
    "### გამონაკლისები როგორც მნიშვნელოვანი სიდიდეები"
   ]
  },
  {
   "cell_type": "code",
   "execution_count": null,
   "metadata": {
    "collapsed": true
   },
   "outputs": [],
   "source": [
    "p999 = diff_df.describe([0.999]).loc['99.9%']"
   ]
  },
  {
   "cell_type": "code",
   "execution_count": null,
   "metadata": {},
   "outputs": [],
   "source": [
    "p999"
   ]
  },
  {
   "cell_type": "code",
   "execution_count": null,
   "metadata": {
    "collapsed": true
   },
   "outputs": [],
   "source": [
    "significants = {col:full_df[diff_df[col] > p999[col]][col] \n",
    "                for col in diff_df}\n",
    "    "
   ]
  },
  {
   "cell_type": "code",
   "execution_count": null,
   "metadata": {
    "collapsed": true
   },
   "outputs": [],
   "source": [
    "significants_df = pd.DataFrame(significants, columns=full_df.columns)"
   ]
  },
  {
   "cell_type": "code",
   "execution_count": null,
   "metadata": {},
   "outputs": [],
   "source": [
    "significants_df"
   ]
  },
  {
   "cell_type": "code",
   "execution_count": null,
   "metadata": {},
   "outputs": [],
   "source": [
    "f, ax = plt.subplots(figsize=(6, 4))\n",
    "\n",
    "full_df['2015-01-12':'2015-01-22'].plot(alpha=0.7, ax=ax)\n",
    "plt.gca().set_prop_cycle(None)\n",
    "significants_df['2015-01-12':'2015-01-22'].plot(marker='^', lw=0, ax=ax)\n",
    "\n",
    "plt.tight_layout()\n",
    "plt.show()"
   ]
  },
  {
   "cell_type": "code",
   "execution_count": null,
   "metadata": {
    "collapsed": true
   },
   "outputs": [],
   "source": []
  },
  {
   "cell_type": "markdown",
   "metadata": {},
   "source": [
    "#### დაგლუვება"
   ]
  },
  {
   "cell_type": "code",
   "execution_count": null,
   "metadata": {
    "collapsed": true
   },
   "outputs": [],
   "source": [
    "smooth_df = full_df.rolling(window=36).mean()"
   ]
  },
  {
   "cell_type": "code",
   "execution_count": null,
   "metadata": {},
   "outputs": [],
   "source": [
    "f, ax = plt.subplots(1, 1, figsize=(6, 4))\n",
    "\n",
    "full_df['2015-01-01':'2015-01-31'].plot(ax=ax, alpha=0.5)\n",
    "smooth_df['2015-01-01':'2015-01-31'].plot(ax=ax, lw=3.0)\n",
    "\n",
    "plt.tight_layout()\n",
    "plt.show()"
   ]
  },
  {
   "cell_type": "markdown",
   "metadata": {
    "collapsed": true
   },
   "source": [
    "### კორელაციები"
   ]
  },
  {
   "cell_type": "markdown",
   "metadata": {},
   "source": [
    "კორელაციის მატრიცა სრულ დროზე"
   ]
  },
  {
   "cell_type": "code",
   "execution_count": null,
   "metadata": {},
   "outputs": [],
   "source": [
    "full_df.corr()"
   ]
  },
  {
   "cell_type": "code",
   "execution_count": null,
   "metadata": {},
   "outputs": [],
   "source": [
    "f, ax = plt.subplots(1, 1, figsize=(6, 4))\n",
    "\n",
    "cmap = sns.diverging_palette(100, 10, as_cmap=True)\n",
    "mask = np.ones_like(full_df.corr(), dtype=np.bool)\n",
    "mask[np.triu_indices_from(mask)] = 0\n",
    "# centered\n",
    "sns.heatmap(full_df.corr(), center=0, square=True, cmap=cmap, mask=mask, linewidths=.5, cbar_kws={\"shrink\": .5})\n",
    "# not centered\n",
    "# sns.heatmap(full_df.corr(), square=True, cmap=cmap, mask=mask, linewidths=.5, cbar_kws={\"shrink\": .5})\n",
    "\n",
    "plt.tight_layout()\n",
    "plt.show()"
   ]
  },
  {
   "cell_type": "code",
   "execution_count": null,
   "metadata": {
    "collapsed": true
   },
   "outputs": [],
   "source": []
  },
  {
   "cell_type": "markdown",
   "metadata": {},
   "source": [
    "დღიური კორელაცია"
   ]
  },
  {
   "cell_type": "code",
   "execution_count": null,
   "metadata": {
    "collapsed": true
   },
   "outputs": [],
   "source": [
    "daily_ALL = [group for group in full_df.groupby(pd.Grouper(freq='1D'))]"
   ]
  },
  {
   "cell_type": "code",
   "execution_count": null,
   "metadata": {
    "collapsed": true
   },
   "outputs": [],
   "source": [
    "corr_by_date = {date: daily_df.corr() for date, daily_df in daily_ALL}"
   ]
  },
  {
   "cell_type": "code",
   "execution_count": null,
   "metadata": {
    "collapsed": true
   },
   "outputs": [],
   "source": [
    "one_to_all_corr = {date: corr['A L95'] for date, corr in corr_by_date.items()}"
   ]
  },
  {
   "cell_type": "code",
   "execution_count": null,
   "metadata": {
    "collapsed": true
   },
   "outputs": [],
   "source": [
    "one_to_all_corr_df = pd.DataFrame(one_to_all_corr).T"
   ]
  },
  {
   "cell_type": "code",
   "execution_count": null,
   "metadata": {},
   "outputs": [],
   "source": [
    "f, ax = plt.subplots(figsize=(6, 4))\n",
    "\n",
    "one_to_all_corr_df.plot(ax=ax)\n",
    "\n",
    "plt.tight_layout()\n",
    "plt.show()"
   ]
  },
  {
   "cell_type": "code",
   "execution_count": null,
   "metadata": {
    "collapsed": true
   },
   "outputs": [],
   "source": []
  },
  {
   "cell_type": "markdown",
   "metadata": {},
   "source": [
    "# შეჯამება\n",
    "\n",
    "### შეგროვებულ მონაცემებში ნაპოვნი ხარვეზები:\n",
    "\n",
    " * მონაცემთა ჩაწერის სიხშირე არაა სტაბილურად 5 წუთი\n",
    " * მონაცემებს ჩაწერისას მუდმივად გამოტოვებულია შუაღამის მონაცემები\n",
    " * ჩანაწერთა უმრავლესობა დამრგვალებულია 5 წუთზე, მაგრამ არა ყველა\n",
    " * არის რამდენიმე ჩავარდნა, რომელიც 1 დღეზე მეტია. კვირების, თვეების და ა.შ. ქვეჯგუფების აჯამვისას შესაძლოა გამოიწვიოს უზუსტობა, რომელიც არ ექვემბდებარება გადამოწმებას\n",
    " * სიჩუმეში ხმაურის სტატისტიკური ხმაური მეტია, ამიტომ დღისა და ღამის ანალიზი ზოგიერთი ამოცანისთვის ერთმანეთისგან განცალკევებით სჯობს\n",
    " \n",
    "### ანალიზის შესაძლო განვითარება\n",
    "\n",
    "\n",
    "### მანქანური სწავლებისთვის მომზადება\n",
    "\n",
    " * მუდმივ სიდიდეთა სტატისტიკური ნორმალიზაცია\n",
    " * კატეგორიათა ბინარიზაცია\n",
    " * სტატისტიკური გამონაკლისების მოშორება\n",
    " * მონაცემთა კრებულის საწვრთნელ და შესამოწმებელ ნაწილად დაყოფა (Training  and Test data sets)\n",
    " "
   ]
  },
  {
   "cell_type": "code",
   "execution_count": null,
   "metadata": {
    "collapsed": true
   },
   "outputs": [],
   "source": []
  }
 ],
 "metadata": {
  "kernelspec": {
   "display_name": "Python 3",
   "language": "python",
   "name": "python3"
  },
  "language_info": {
   "codemirror_mode": {
    "name": "ipython",
    "version": 3
   },
   "file_extension": ".py",
   "mimetype": "text/x-python",
   "name": "python",
   "nbconvert_exporter": "python",
   "pygments_lexer": "ipython3",
   "version": "3.6.3"
  }
 },
 "nbformat": 4,
 "nbformat_minor": 2
}
