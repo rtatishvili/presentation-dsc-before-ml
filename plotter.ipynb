{
 "cells": [
  {
   "cell_type": "markdown",
   "metadata": {},
   "source": [
    "### ვებ ძებნის შედეგები\n",
    "\n",
    "ამ ფიალში მოცემულია პრეზენტაციაში გამოყენებული \"ვებ ძებნის შედეგების\" გრაფიკის შედგენის კოდი. მონაცემები არის ფიქსირებული 'data' საქაღალდეში, წყარო: https://trends.google.com/trends/explore?date=all&q=big%20data,data%20science,machine%20learning. სურვილის შემთხვევაში, შესაძლებელია ამ მონაცემების განახლებაც. "
   ]
  },
  {
   "cell_type": "code",
   "execution_count": null,
   "metadata": {
    "collapsed": true
   },
   "outputs": [],
   "source": [
    "from __future__ import unicode_literals"
   ]
  },
  {
   "cell_type": "code",
   "execution_count": null,
   "metadata": {
    "collapsed": true
   },
   "outputs": [],
   "source": [
    "import pandas as pd\n",
    "import matplotlib\n",
    "import matplotlib.pyplot as plt\n",
    "matplotlib.style.use('ggplot')"
   ]
  },
  {
   "cell_type": "code",
   "execution_count": null,
   "metadata": {
    "collapsed": true
   },
   "outputs": [],
   "source": [
    "from matplotlib.font_manager import FontProperties"
   ]
  },
  {
   "cell_type": "code",
   "execution_count": null,
   "metadata": {
    "collapsed": true
   },
   "outputs": [],
   "source": [
    "import datetime"
   ]
  },
  {
   "cell_type": "code",
   "execution_count": null,
   "metadata": {
    "collapsed": true
   },
   "outputs": [],
   "source": [
    "%%bash\n",
    "head data/websearch.csv"
   ]
  },
  {
   "cell_type": "code",
   "execution_count": null,
   "metadata": {
    "collapsed": true
   },
   "outputs": [],
   "source": [
    "def year_month_parser(token):\n",
    "    return datetime.datetime.strptime(token, '%Y-%m')"
   ]
  },
  {
   "cell_type": "code",
   "execution_count": null,
   "metadata": {
    "collapsed": true
   },
   "outputs": [],
   "source": [
    "df = pd.read_csv('data/websearch.csv', index_col='Month', parse_dates=True, skiprows=2, date_parser=year_month_parser)"
   ]
  },
  {
   "cell_type": "markdown",
   "metadata": {},
   "source": [
    "იგულისხმება, რომ ოპერაციული სისტემა არის ლინუქსი და სასურველი შრიფტი ქართული დამწერლობის მხარდაჭერით მოცემულია შესაბამის საქაღალდეში."
   ]
  },
  {
   "cell_type": "code",
   "execution_count": null,
   "metadata": {
    "collapsed": true
   },
   "outputs": [],
   "source": [
    "title_prop = FontProperties()\n",
    "title_prop.set_file('/usr/share/fonts/truetype/freefont/FreeSans.ttf')\n",
    "title_prop.set_size(size=16)\n",
    "label_prop = FontProperties()\n",
    "label_prop.set_file('/usr/share/fonts/truetype/freefont/FreeSans.ttf')\n",
    "label_prop.set_size(size=12)\n"
   ]
  },
  {
   "cell_type": "code",
   "execution_count": null,
   "metadata": {
    "collapsed": true
   },
   "outputs": [],
   "source": [
    "f, ax = plt.subplots(1, 1, figsize=(12, 4), dpi=72)\n",
    "df.plot(ax=ax)\n",
    "\n",
    "plt.title('ႥႤႡ-ႻႤႡႬႨႱ ႸႤႣႤႢႤႡႨ', fontproperties=title_prop)\n",
    "plt.xlabel('ႼႤႪႨႼႠႣႨ', fontproperties=label_prop)\n",
    "plt.savefig('plots/websearch.png')\n",
    "plt.show()\n",
    "plt.close()"
   ]
  },
  {
   "cell_type": "code",
   "execution_count": null,
   "metadata": {
    "collapsed": true
   },
   "outputs": [],
   "source": []
  },
  {
   "cell_type": "code",
   "execution_count": null,
   "metadata": {
    "collapsed": true
   },
   "outputs": [],
   "source": []
  },
  {
   "cell_type": "code",
   "execution_count": null,
   "metadata": {
    "collapsed": true
   },
   "outputs": [],
   "source": []
  }
 ],
 "metadata": {
  "anaconda-cloud": {},
  "kernelspec": {
   "display_name": "Python 3",
   "language": "python",
   "name": "python3"
  },
  "language_info": {
   "codemirror_mode": {
    "name": "ipython",
    "version": 3
   },
   "file_extension": ".py",
   "mimetype": "text/x-python",
   "name": "python",
   "nbconvert_exporter": "python",
   "pygments_lexer": "ipython3",
   "version": "3.6.3"
  }
 },
 "nbformat": 4,
 "nbformat_minor": 2
}
